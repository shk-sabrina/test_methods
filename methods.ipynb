# EVM Event Listener
This service provides the abilitiy to track and query for native token transfers, ERC20 token transfers, and ERC721 (NFT) events for EVM compatible blockchains. The blockchains currently supported are Ethereum, Polygon and Binance Smart Chain.
## Getting Started:
``./crypto-sdk/crypto_sdk.py`` contains the methods to interact with the Event Listener API in Python. In addition, we will demonstrate how to interact with the API using CURL commands. First thing we need to do is to obtain the API token from Shakudo. This will be a unique identifier, so save it somewhere as it will be needed every time we interact with the API.
### 1. Getting a Token:
```python
from crypto_sdk import signup
token = signup(name="demo")
print(f"token: {token}")
->>> token: 1ea73d8f-0461-435c-992f-f8274d15acdd
```
Meanwhile, as a CURL command: 
```bash
curl -X 'POST' \
  'https://xyz2.hyperplane.dev/event-tracking/signup/' \
  -H 'accept: application/json' \
  -H 'Content-Type: application/json' \
  -d '{
  "name": "demo"
}'
```
``` bash
Response body:
{
  "authorization_token": "1ea73d8f-0461-435c-992f-f8274d15acdd"
}
```
### 2. Subscribing to Token Transfers: 
Next we will demonstrate how to subscribe to token transfers and recieve updates as webhooks.
```python
from crypto_sdk import EventListener
# Create an EventListener object
event_listener = EventListener(
    token = token, # token we obtained above 
    chain = "eth" # chain, one of [`eth`, `polygon`, `mumbai`, `bsc`]
)
# subscribe to any transfers in and out of an address
event_listener.subscribe(
    address = "0xethd3m0addr355", # the address we want to subscrube
    webhook_url = "https://webhook.com/eth/events/", # the webhook url we want to consume webhooks at
)
```
As a CURL command:
```bash
curl -X 'POST' \
  'https://xyz2.hyperplane.dev/event/eth/' \
  -H 'accept: application/json' \
  -H 'token: 1ea73d8f-0461-435c-992f-f8274d15acdd' \
  -H 'Content-Type: application/json' \
  -d '{
  "method": "subscribe",
  "parameters": {
    "address": "0xethd3m0addr355",
    "block": -1,
    "webhook_url": "https://webhook.com/eth/events/"
  }
}'
```
### 3. Querying for Token Transfer History:
We can get the history of all token transfers, starting from the moment we subscribed. This will return an array of JSONs.
```python
event_listener.get_token_history(address = "0xethd3m0addr355")
```
As a CURL command:
```bash
curl -X 'GET' \
  'https://xyz2.hyperplane.dev/query/eth/' \
  -H 'accept: application/json' \
  -H 'token: 1ea73d8f-0461-435c-992f-f8274d15acdd' \
  -H 'Content-Type: application/json' \
  -d '{
  "address": "0xethd3m0addr355"
}'
```
### 4. Subcribing to Contract Events
We can also subscribe to any event supposing we habe the Abstract Binary Interface (ABI) of the smart contract.
In python:
```python 
event_listener.subscribe_to_contract(
    address = "0xethd3m0c0ntr4ct", 
    abi_path = "abi.json" # path to the contract ABI as a JSON file
)
```
As a CURL command:
```bash
curl -X 'POST' \
  'https://xyz2.hyperplane.dev/contract/eth' \
  -H 'accept: application/json' \
  -H 'token: 1ea73d8f-0461-435c-992f-f8274d15acdd' \
  -H 'Content-Type: application/json' \
  -d '{
  "method": "subscribe",
  "parameters": {
    "address": "0xethd3m0c0ntr4ct",
    "block": -1,
    "webhook_url": "https://webhook.com/eth/contract/events",
    "abi": "[{\"inputs\":[{\"internalType\":\"address\",\"name\":\"account\",\"type\":\"address\"},{\"internalType\":\"address\",\"name\":\"minter_\",\"type\":\"address\"},
    .
    .
    .
    {\"internalType\":\"uint256\",\"name\":\"rawAmount\",\"type\":\"uint256\"}],\"name\":\"transferFrom\",\"outputs\":[{\"internalType\":\"bool\",\"name\":\"\",\"type\":\"bool\"}],\"payable\":false,\"stateMutability\":\"nonpayable\",\"type\":\"function\"}]"
  }
}'
```
### 5. Querying for Contract Events History by time range and address:
```python
events = event_listener.get_contract_events(
    address = ["0xethd3m0c0ntr4ct"], # takes a list of addresses 
    events = ["Transfer"], # list of contract events we want to query
    time_range = [1653579245, 1653579264] # time range in UNIX time (UTC)
    address_filter = ["0xE93381fB4c4F14bDa253907b18faD305D799241a", "0x0185ea883A176f310b7E940D5A893748cB557607"] # filter for only these two addresses
)
print(events)
->>>[{'txhash': '0xfdae0e898ce73512dad6c02f975ed698041abb02b93009699ea447f60336d6be',
  'address': ['0x1f9840a85d5af5bf1d1762f925bdaddc4201f984'],
  'data': '{"from": "0xb81087E07c062376e6b6017669EE52d73fc6513a", "to": "0x3a5cc8689D1b0cEf2c317bC5C0aD6Ce88B27D597", "amount": 10840381610000000000}',
  'event': 'Transfer',
  'time': 1653579245,
  'block': 14848753},
 {'txhash': '0x7b1f94792b5497e6d7bc69cdda864d229cd5306ac3d25afd7d0bafb883f12849',
  'address': '0x1f9840a85d5af5bf1d1762f925bdaddc4201f984',
  'data': '{"from": "0xE93381fB4c4F14bDa253907b18faD305D799241a", "to": "0x0185ea883A176f310b7E940D5A893748cB557607", "amount": 4504000000000000000000}',
  'event': 'Transfer',
  'time': 1653579264,
  'block': 14848755},
]
```
As a CURL command:
```bash
curl -X 'POST' \
  'https://xyz2.hyperplane.dev/event-query/eth/' \
  -H 'accept: application/json' \
  -H 'token: 1ea73d8f-0461-435c-992f-f8274d15acdd' \
  -H 'Content-Type: application/json' \
  -d '{
  "address": ["0xethd3m0c0ntr4ct"],
  "events": ["Transfer"],
  "timeRange": [1653579245, 1653579264],
  "addressFilter": [
    "0xE93381fB4c4F14bDa253907b18faD305D799241a",
    "0x0185ea883A176f310b7E940D5A893748cB557607"
  ]
}'
```
NOTE: If you want to filter by addresses then you can only query for one event at a time. If you only want to obtain event history you can query for several events and filter by time range.
### 6. Get First/Last X Transaction of a Contract Event
```python
events = event_listener.get_event(
    address = "0xethd3m0c0ntr4ct",
    event = "Transfer", # event we are querying
    limit = 2, # number of transactions
    desc = True, # by most recent (descending in timestamp)
)
```
As a CURL command:
```bash
curl -X 'GET' \
  'http://localhost/event-query/eth/0xethd3m0nft/?event=Transfer&limit=2&desc=true' \
  -H 'accept: application/json' \
  -H 'token: 4b13dda7-974a-44a3-b475-f9bd2ffa9093'
```
### 7. Get owner of an NFT by tokenId:
We can query for the owner of an certain NFT. Note that the NFT funcionalities only work for ERC721 compliant smart contracts.
```python
owner =  get_ownerOf_nft(
    nft_address = "0xethd3m0nft", 
    tokenId = 0
    )
# returns the address of the owner of the NFT with tokenId 0.
```
As a CURL command:
```bash
curl -X 'POST' \
  'https://xyz2.hyperplane.dev/nft/eth/' \
  -H 'accept: application/json' \
  -H 'token: 1ea73d8f-0461-435c-992f-f8274d15acdd' \
  -H 'Content-Type: application/json' \
  -d '{
  "method": "ownerOf",
  "parameters": {
    "nft_address": "0xethd3m0nft",
    "tokenId": 0
  }
}'
```
### 8. Get all Tokens owned by a wallet for an NFT:
```python
nfts_owned = event_listener.get_owned_nft(
    nft_address= "0xethd3m0nft",
    owner_address= "0xnftowner
)
# returns an array of tokenIds
```
As a CURL command:
```bash
curl -X 'POST' \
  'https://xyz2.hyperplane.devnft/eth/' \
  -H 'accept: application/json' \
  -H 'token: 1ea73d8f-0461-435c-992f-f8274d15acdd' \
  -H 'Content-Type: application/json' \
  -d '{
  "method": "owned",
  "parameters": {
    "nft_address": "0xethd3m0nft",
    "owner_address": "0xnftowner"
  }
}'
```
### 9. Get the URI of an NFT: 
Retrieves the IPFS URI for any NFT given the tokenId.
```python
uri = event_listener.get_nft_uri(
    nft_address = "0xethd3m0nft", 
    tokenId = 0
)
```
As a CURL command:
```bash
curl -X 'POST' \
  'https://xyz2.hyperplane.dev/nft/eth/' \
  -H 'accept: application/json' \
  -H 'token: 1ea73d8f-0461-435c-992f-f8274d15acdd' \
  -H 'Content-Type: application/json' \
  -d '{
  "method": "tokenURI",
  "parameters": {
    "nft_address": "0xethd3m0nft",
    "tokenId": 0
  }
}'
```
### 10. Transaction Volume for ERC20 Tokens: 
Retrieves transaction volume for ERC20 tokens filtered by token addresses and time range.
CURL command:
```bash
curl -X 'GET' \
  'https://xyz2.hyperplane.dev/transaction-volume/eth/?trange=week&address=0x0&address=0x1&address=0x2' \
  -H 'accept: application/json' \
  -H 'token: 1ea73d8f-0461-435c-992f-f8274d15acdd'
```
### 11. Recent NFT Purchases:
Retrieves the last N nft purchases of a list of NFTs.
CURL command:
```bash
curl -X 'GET' \
  'https://xyz2.hyperplane.dev/recent-nft-purchase/eth/?limit=5&address=0x1&address=0x2' \
  -H 'accept: application/json' \
  -H 'token: 1ea73d8f-0461-435c-992f-f8274d15acdd'
```
### 12. Create and Track an NFT Wallet:
curl -X 'POST' \
  'https://xyz2.hyperplane.dev/nft-wallet/eth/' \
  -H 'accept: application/json' \
  -H 'token: 1ea73d8f-0461-435c-992f-f8274d15acdd' \
  -H 'Content-Type: application/json' \
  -d '{
  "wallet": "0x0",
  "wallet_name": "Moonbird Wallet",
  "game": "Agentlost",
  "chain": "Ethereum",
  "webhook_ur": "https://webhookurl.com/"
}'
NOTE: The default timezone is UTC, and timestamps are in Unix time.
